{
 "cells": [
  {
   "cell_type": "code",
   "execution_count": 1,
   "metadata": {},
   "outputs": [],
   "source": [
    "import sklearn\n"
   ]
  },
  {
   "cell_type": "code",
   "execution_count": null,
   "metadata": {},
   "outputs": [],
   "source": []
  },
  {
   "cell_type": "code",
   "execution_count": 31,
   "metadata": {},
   "outputs": [
    {
     "name": "stdout",
     "output_type": "stream",
     "text": [
      "    day   outlook  temp humidity    wind play\n",
      "0    D1     Sunny   Hot     High    Weak   No\n",
      "1    D2     Sunny   Hot     High  Strong   No\n",
      "2    D3  Overcast   Hot     High    Weak  Yes\n",
      "3    D4      Rain  Mild     High    Weak  Yes\n",
      "4    D5      Rain  Cool   Normal    Weak  Yes\n",
      "5    D6      Rain  Cool   Normal  Strong   No\n",
      "6    D7  Overcast  Cool   Normal  Strong  Yes\n",
      "7    D8     Sunny  Mild     High    Weak   No\n",
      "8    D9     Sunny  Cool   Normal    Weak  Yes\n",
      "9   D10      Rain  Mild   Normal    Weak  Yes\n",
      "10  D11     Sunny  Mild   Normal  Strong  Yes\n",
      "11  D12  Overcast  Mild     High  Strong  Yes\n",
      "12  D13  Overcast   Hot   Normal    Weak  Yes\n",
      "13  D14      Rain  Mild     High  Strong   No\n"
     ]
    }
   ],
   "source": [
    "import pandas as pd\n",
    "from sklearn.model_selection import train_test_split\n",
    "from sklearn.datasets import load_iris\n",
    "from sklearn.tree import DecisionTreeClassifier\n",
    "from sklearn.neural_network import MLPClassifier\n",
    "\n",
    "class eksperimen(object):\n",
    " def __init__(self, dataset=None, classifier=None):\n",
    "  self.dataset = dataset\n",
    "  self.classifier = classifier\n",
    "\n",
    " def get_dataset(self, filename):\n",
    "    # readfile, masukin ke dataset\n",
    "    self.dataset = pd.read_csv(filename)\n",
    "    print(self.dataset)\n",
    "#     X = self.dataset[:, 1:]  # select columns 1 through end\n",
    "#     y = self.dataset[:, 0]\n",
    "#     print(X)\n",
    "#     print(y)\n",
    "    \n",
    " def get_std_dataset(self):\n",
    "    self.dataset = load_iris()\n",
    "    \n",
    " def build_clf(self, clf_name):\n",
    "    if (clf_name == 'dtl'):\n",
    "        self.classifier = DecisionTreeClassifier(max_leaf_nodes=3, random_state=0)\n",
    "    elif (clf_name == 'ann'):\n",
    "        self.classifier = MLPClassifier(solver='lbfgs', alpha=1e-5, \n",
    "                                        hidden_layer_sizes=(5, 2), random_state=1)\n",
    "    self.classifier.fit(dataset['X_train'],dataset['y_train'])\n",
    "    \n",
    " def split_dataset(self):\n",
    "    # X adalah data setiap fitur, y adalah target\n",
    "    X_train, X_test, y_train, y_test = train_test_split(X, y, random_state=0)\n",
    "    dataset = {\n",
    "        'X_train': X_train,\n",
    "        'X_test': X_test,\n",
    "        'y_train': y_train,\n",
    "        'y_test': y_test\n",
    "    }\n",
    "\n",
    "exp = eksperimen()\n",
    "exp.get_dataset('tennis.csv')\n",
    "# exp.get_std_dataset()\n",
    "\n",
    "# iris = exp.dataset\n",
    "\n",
    "# X = iris.data\n",
    "# y = iris.target\n",
    "# exp.split_dataset()\n",
    "\n",
    "# exp.build_clf('ann')\n",
    "# print(exp.classifier)\n",
    "\n",
    "# exp.build_clf('dtl')\n",
    "# print(exp.classifier)\n",
    "\n"
   ]
  }
 ],
 "metadata": {
  "kernelspec": {
   "display_name": "Python 3",
   "language": "python",
   "name": "python3"
  },
  "language_info": {
   "codemirror_mode": {
    "name": "ipython",
    "version": 3
   },
   "file_extension": ".py",
   "mimetype": "text/x-python",
   "name": "python",
   "nbconvert_exporter": "python",
   "pygments_lexer": "ipython3",
   "version": "3.6.1"
  }
 },
 "nbformat": 4,
 "nbformat_minor": 2
}
