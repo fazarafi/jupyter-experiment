{
 "cells": [
  {
   "cell_type": "code",
   "execution_count": 1,
   "metadata": {},
   "outputs": [],
   "source": [
    "import sklearn\n"
   ]
  },
  {
   "cell_type": "code",
   "execution_count": null,
   "metadata": {},
   "outputs": [],
   "source": []
  },
  {
   "cell_type": "code",
   "execution_count": 47,
   "metadata": {},
   "outputs": [
    {
     "ename": "TypeError",
     "evalue": "'NoneType' object is not iterable",
     "output_type": "error",
     "traceback": [
      "\u001b[1;31m---------------------------------------------------------------------------\u001b[0m",
      "\u001b[1;31mTypeError\u001b[0m                                 Traceback (most recent call last)",
      "\u001b[1;32m<ipython-input-47-39f9d5c5727a>\u001b[0m in \u001b[0;36m<module>\u001b[1;34m()\u001b[0m\n\u001b[0;32m     69\u001b[0m \u001b[1;33m\u001b[0m\u001b[0m\n\u001b[0;32m     70\u001b[0m \u001b[0mexp\u001b[0m \u001b[1;33m=\u001b[0m \u001b[0meksperimen\u001b[0m\u001b[1;33m(\u001b[0m\u001b[1;33m)\u001b[0m\u001b[1;33m\u001b[0m\u001b[0m\n\u001b[1;32m---> 71\u001b[1;33m \u001b[0mexp\u001b[0m\u001b[1;33m.\u001b[0m\u001b[0mget_dataset\u001b[0m\u001b[1;33m(\u001b[0m\u001b[1;34m'tennis.csv'\u001b[0m\u001b[1;33m)\u001b[0m\u001b[1;33m\u001b[0m\u001b[0m\n\u001b[0m\u001b[0;32m     72\u001b[0m \u001b[1;31m# exp.get_std_dataset()\u001b[0m\u001b[1;33m\u001b[0m\u001b[1;33m\u001b[0m\u001b[0m\n\u001b[0;32m     73\u001b[0m \u001b[0mprint\u001b[0m\u001b[1;33m(\u001b[0m\u001b[0mexp\u001b[0m\u001b[1;33m.\u001b[0m\u001b[0mdataset\u001b[0m\u001b[1;33m)\u001b[0m\u001b[1;33m\u001b[0m\u001b[0m\n",
      "\u001b[1;32m<ipython-input-47-39f9d5c5727a>\u001b[0m in \u001b[0;36mget_dataset\u001b[1;34m(self, filename)\u001b[0m\n\u001b[0;32m     56\u001b[0m     \u001b[0mnew_data\u001b[0m\u001b[1;33m[\u001b[0m\u001b[1;34m'target'\u001b[0m\u001b[1;33m]\u001b[0m \u001b[1;33m=\u001b[0m \u001b[0mtarget_data\u001b[0m\u001b[1;33m\u001b[0m\u001b[0m\n\u001b[0;32m     57\u001b[0m     \u001b[0mdata\u001b[0m \u001b[1;33m=\u001b[0m \u001b[1;33m[\u001b[0m\u001b[1;33m]\u001b[0m\u001b[1;33m\u001b[0m\u001b[0m\n\u001b[1;32m---> 58\u001b[1;33m     \u001b[1;32mfor\u001b[0m \u001b[0mrow\u001b[0m \u001b[1;32min\u001b[0m \u001b[0mself\u001b[0m\u001b[1;33m.\u001b[0m\u001b[0mdataset\u001b[0m\u001b[1;33m:\u001b[0m\u001b[1;33m\u001b[0m\u001b[0m\n\u001b[0m\u001b[0;32m     59\u001b[0m         \u001b[0mdata\u001b[0m\u001b[1;33m.\u001b[0m\u001b[0mappend\u001b[0m\u001b[1;33m(\u001b[0m\u001b[0mrow\u001b[0m\u001b[1;33m)\u001b[0m\u001b[1;33m\u001b[0m\u001b[0m\n\u001b[0;32m     60\u001b[0m     \u001b[0mnew_data\u001b[0m\u001b[1;33m[\u001b[0m\u001b[1;34m'feature_names'\u001b[0m\u001b[1;33m]\u001b[0m \u001b[1;33m=\u001b[0m \u001b[0mdata\u001b[0m\u001b[1;33m\u001b[0m\u001b[0m\n",
      "\u001b[1;31mTypeError\u001b[0m: 'NoneType' object is not iterable"
     ]
    }
   ],
   "source": [
    "import pandas as pd\n",
    "import numpy as np\n",
    "from sklearn.model_selection import train_test_split\n",
    "from sklearn.datasets import load_iris\n",
    "from sklearn.tree import DecisionTreeClassifier\n",
    "from sklearn.neural_network import MLPClassifier\n",
    "\n",
    "class eksperimen(object):\n",
    " def __init__(self, dataset=None, classifier=None):\n",
    "  self.dataset = dataset\n",
    "  self.classifier = classifier\n",
    "\n",
    " def get_std_dataset(self):\n",
    "    self.dataset = load_iris()\n",
    "    \n",
    " def build_clf(self, clf_name):\n",
    "    if (clf_name == 'dtl'):\n",
    "        self.classifier = DecisionTreeClassifier(max_leaf_nodes=3, random_state=0)\n",
    "    elif (clf_name == 'ann'):\n",
    "        self.classifier = MLPClassifier(solver='lbfgs', alpha=1e-5, \n",
    "                                        hidden_layer_sizes=(5, 2), random_state=1)\n",
    "    self.classifier.fit(dataset['X_train'],dataset['y_train'])\n",
    "    \n",
    " def split_dataset(self):\n",
    "    # X adalah data setiap fitur, y adalah target\n",
    "    X_train, X_test, y_train, y_test = train_test_split(X, y, random_state=0)\n",
    "    dataset = {\n",
    "        'X_train': X_train,\n",
    "        'X_test': X_test,\n",
    "        'y_train': y_train,\n",
    "        'y_test': y_test\n",
    "    }\n",
    "\n",
    " def get_dataset(self, filename):\n",
    "    # readfile, masukin ke dataset\n",
    "    raw_data = pd.read_csv(filename)\n",
    "\n",
    "    \n",
    "    #     df['Type'] = pd.Factor(targets, target_names)\n",
    "    new_data = {\n",
    "        'data': [],\n",
    "        'target_names': np.array(['Yes','No']),\n",
    "        'feature_names': [],\n",
    "        'target': []\n",
    "    }\n",
    "    \n",
    "    \n",
    "    \n",
    "    target_data = []\n",
    "    for target in raw_data['play']:\n",
    "        if (target=='Yes'):\n",
    "            target_data.append(0)\n",
    "        else:\n",
    "            target_data.append(1)\n",
    "    \n",
    "    new_data['target'] = target_data\n",
    "    data = []\n",
    "    for row in raw_data:\n",
    "        data.append(row)\n",
    "    new_data['feature_names'] = data\n",
    "    print(new_data)\n",
    "\n",
    "\n",
    "#     X = self.dataset[:, 1:]  # select columns 1 through end\n",
    "#     y = self.dataset[:, 0]\n",
    "#     print(X)\n",
    "#     print(y)\n",
    "    \n",
    "    \n",
    "exp = eksperimen()\n",
    "exp.get_dataset('tennis.csv')\n",
    "# exp.get_std_dataset()\n",
    "print(exp.dataset)\n",
    "\n",
    "\n",
    "# iris = exp.dataset\n",
    "\n",
    "# X = iris.data\n",
    "# y = iris.target\n",
    "# exp.split_dataset()\n",
    "\n",
    "# exp.build_clf('ann')\n",
    "# print(exp.classifier)\n",
    "\n",
    "# exp.build_clf('dtl')\n",
    "# print(exp.classifier)\n",
    "\n"
   ]
  }
 ],
 "metadata": {
  "kernelspec": {
   "display_name": "Python 3",
   "language": "python",
   "name": "python3"
  },
  "language_info": {
   "codemirror_mode": {
    "name": "ipython",
    "version": 3
   },
   "file_extension": ".py",
   "mimetype": "text/x-python",
   "name": "python",
   "nbconvert_exporter": "python",
   "pygments_lexer": "ipython3",
   "version": "3.6.1"
  }
 },
 "nbformat": 4,
 "nbformat_minor": 2
}
